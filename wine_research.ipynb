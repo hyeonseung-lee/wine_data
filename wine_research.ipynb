{
 "cells": [
  {
   "cell_type": "markdown",
   "metadata": {},
   "source": [
    "# [Project] 와인 정보 검색 및 이미지 인식을 통한 상품 정보 제공"
   ]
  },
  {
   "cell_type": "markdown",
   "metadata": {},
   "source": [
    "## 프로젝트 목표\n",
    "  - 와인에 대한 정보를 제공함으로써 선호에 맞는 와인을 찾읈 수 있게 한다.\n",
    "  - 와인 이미지를 인식해 정보를 제공함으로써 구매 현장에서의 현명한 판단을 돕도록 한다\n"
   ]
  },
  {
   "cell_type": "markdown",
   "metadata": {},
   "source": [
    "## 프로젝트 목차\n",
    "\n",
    "    1. 데이터 읽기 : kaggle dataset에서 다운받은 wine inforamtion(https://www.kaggle.com/dev7halo/wine-information)을 불러오기, 와인 이미지 데이터 크롤링.\n",
    "      1-1. 데이터 불러오기 \n",
    "      1-2. 이미지 데이터 크롤링\n",
    "  \n",
    "    2. 데이터 정제 : 핵심 변수를 파악, 비어있는 데이터 및 불필요한 데이터를 삭제.\n",
    "      2-1. 결측값 확인\n",
    "      2-2. 결측값 처리\n",
    "\n",
    "    3. 데이터 시각화 : 변수 시각화를 통해서 분포 파악.\n",
    "    4. 데이터 전 처리 : 머신러닝 모델에 필요한 입력값 형식으로 데이터 처리\n",
    "    5. 머신러닝 기본 학습 : 딥러닝을 활용하여 학습 수행\n",
    "      5-1. 모델 구현\n",
    "      5-2. 학습 수행\n",
    "    6. 평가 및 예측 : 학습된 모델을 바탕으로 평가 및 예측 수행"
   ]
  },
  {
   "cell_type": "markdown",
   "metadata": {},
   "source": [
    "## 데이터 출처\n",
    "\n",
    "  - https://www.kaggle.com/dev7halo/wine-information"
   ]
  },
  {
   "cell_type": "markdown",
   "metadata": {},
   "source": [
    "## 프로젝트 개요\n",
    " 코로나 시대로 인해서 집에서 여가를 보내는 사람이 많아졌다. 이와 더불어 집에서 소소하게 음주문화를 즐기는 이른바 '혼술'문화가 확장되어 '혼술족'이라는 단어로 이어졌다. 주류 판매점에 가서 술을 마시는 경우에는 직원(바텐더 등)을 통해서 상품을 추천받을 수 있지만, 판매점에서 직접 주류를 선택해야하는 혼술족 입장에서 국문으로 표기되지 않은 와인은 외면받을 뿐이다. 용기내어 가판대에 다가가더라도 술 하나하나 핸드폰으로 검색하며 본인의 취항을 맞추기에는 여전히 많은 노력을 필요로 한다. 이런 상황을 마주하는 이들에게 솔루션이 되어주고 싶다.\n",
    "\n",
    " 와인의 맛을 좌우하는 알코올 도수(Alcohol by Volume), 마시는 온도(Drinking Temperature)와  당도(Sweet), 산도(Acidity), 바디감(Body), 탄닌(tannin)등, 본인이 선호하는 정도(degree)를 어플리케이션 내에 설정하고, 스마트폰 카메라로 가판대를 스캔하면서 본인의 선호도를 기준으로 선호점수를 매겨주는 서비스가 있다면 어떨까.\n",
    " 와인에 조금 더 익숙해진다면, 파커포인트와 같은 소믈리에들의 점수를 반영 해 주기도 하고, 이미 경험한 와인의 히스토리를 기록해 추천알고리즘을 동작시켜준다면 문화를 더욱 풍요롭게 만들어 줄 것이다.\n",
    " \n",
    " 이 프로젝트는 이런 서비스를 기획, 개발하기위한 초석이 된다."
   ]
  },
  {
   "cell_type": "markdown",
   "metadata": {},
   "source": [
    "## 1. 데이터 읽기\n",
    "\n",
    "\n",
    "\n"
   ]
  },
  {
   "cell_type": "markdown",
   "metadata": {},
   "source": [
    "### 1-1. 데이터 불러오기\n",
    " pandas를 사용하여 cleansingWine.csv를 읽고 dataframe형태로 저장한다.\n",
    " 사용할 데이터 셋에는 총 2만개 이상의 데이터가 있는데, 프로젝트의 효율을 위해서 상위 20개의 데이터만 추려서 진행한다.\n"
   ]
  },
  {
   "cell_type": "code",
   "execution_count": 4,
   "metadata": {},
   "outputs": [
    {
     "name": "stderr",
     "output_type": "stream",
     "text": [
      "/usr/lib/python3/dist-packages/IPython/core/interactiveshell.py:2718: DtypeWarning: Columns (8,19,20) have mixed types.Specify dtype option on import or set low_memory=False.\n",
      "  interactivity=interactivity, compiler=compiler, result=result)\n"
     ]
    },
    {
     "data": {
      "text/plain": [
       "21605"
      ]
     },
     "execution_count": 4,
     "metadata": {},
     "output_type": "execute_result"
    }
   ],
   "source": [
    "import pandas as pd\n",
    "import numpy as np\n",
    "\n",
    "data_set = pd.read_csv(\"./archive/cleansingWine.csv\")\n",
    "len(data_set)"
   ]
  },
  {
   "cell_type": "markdown",
   "metadata": {},
   "source": [
    "### 1-2. 이미지 데이터 크롤링\n",
    "\n",
    " 와인에 대한 이미지를 야후에서 크롤링한다. 아래 코드는 크롤링 작업을 진행하는데, 이미 파일에 추가되어 있으니 실행하지 않도록 주의하자. (혹시나 파일이 읽히지 않는다면 실행하기!)"
   ]
  },
  {
   "cell_type": "code",
   "execution_count": 5,
   "metadata": {},
   "outputs": [],
   "source": [
    "import os\n",
    "\n"
   ]
  },
  {
   "cell_type": "code",
   "execution_count": 6,
   "metadata": {},
   "outputs": [
    {
     "name": "stderr",
     "output_type": "stream",
     "text": [
      "/home/lee/.local/lib/python3.6/site-packages/ipykernel_launcher.py:18: DeprecationWarning: use options instead of chrome_options\n"
     ]
    },
    {
     "name": "stdout",
     "output_type": "stream",
     "text": [
      "########## start crawling 21605 numbers wine image * 10\n",
      "########## number 1. Altair start.\n"
     ]
    }
   ],
   "source": [
    "#**************************이미지 크롤링을 진행하는 단계입니다 실행에 유의하세요!!!**************************#\n",
    "names = data_set[\"name\"]\n",
    "\n",
    "\n",
    "import os\n",
    "from bs4 import BeautifulSoup\n",
    "from selenium import webdriver\n",
    "from urllib.request import urlopen\n",
    "\n",
    "# 크롤링이 되는 사이트가 야후 뿐이였음..\n",
    "url = \"https://images.search.yahoo.com/search/images?p={}%20wine\"\n",
    "\n",
    "path='/home/lee/chromedriver'\n",
    "chrome_options = webdriver.ChromeOptions()\n",
    "chrome_options.add_argument('--headless')\n",
    "chrome_options.add_argument('--no-sandbox')\n",
    "chrome_options.add_argument('--disable-dev-shm-usage')\n",
    "browser = webdriver.Chrome(executable_path=path, chrome_options=chrome_options)\n",
    "\n",
    "# name별로 이미지를 10개씩 크롤링 함\n",
    "print(\"########## start crawling {} numbers wine image * 10\".format(len(names)))\n",
    "\n",
    "os.mkdir(\"./archive/imgs\")                          # 이미지를 저장할 별도의 디렉토리 생성\n",
    "for number in range(len(names)):\n",
    "    wine = names[number]\n",
    "    print(\"########## number {}. {} start.\".format(number + 1,wine))\n",
    "    browser.get(url.format(wine))\n",
    "    html = browser.page_source\n",
    "    soup = BeautifulSoup(html, 'html.parser')\n",
    "    imgs =  soup.find_all(\"img\")\n",
    "\n",
    "    # 이미지의 정확도를 높이기 위해 상위 10개 데이터로 제한\n",
    "    imgs = imgs[:10] \n",
    "\n",
    "\n",
    "    os.mkdir(\"./archive/imgs/{}\".format(wine))      # 와인 이름별로 디렉토리를 만들어 저장\n",
    "    for idx in range(len(imgs)):\n",
    "        print(\"########## save {} {}\".format(wine, idx + 1))\n",
    "        link = imgs[idx].get('src')\n",
    "        with urlopen(link) as f:\n",
    "            with open('./archive/imgs/{}/{}.jpg'.format(wine, str(idx+1)),'wb') as h: # 이미지 + 사진번호 + 확장자는 jpg\n",
    "                img = f.read() #이미지 읽기\n",
    "                h.write(img)\n",
    "    print(\"########## finish number {}. {}.\".format(number + 1,wine))\n",
    "\n",
    "\n"
   ]
  },
  {
   "cell_type": "code",
   "execution_count": null,
   "metadata": {},
   "outputs": [
    {
     "data": {
      "text/plain": [
       "19    Chateau Brillette\n",
       "Name: name, dtype: object"
      ]
     },
     "execution_count": 4,
     "metadata": {},
     "output_type": "execute_result"
    }
   ],
   "source": [
    "names[names==\"Chateau Brillette\"]\n"
   ]
  },
  {
   "cell_type": "markdown",
   "metadata": {},
   "source": [
    "크롤러의 한계로 20개 와인의 이미지 데이터만 각각 10개씩 확보할 수 있었다. 실제 서비스로 출시할 제품이 아닌, 딥러닝을 구현, 평가하는 프로젝트이므로 부분적으로 진행하도록 한다.\n",
    "\n",
    "이후 데이터 컬럼에 img_address 변수로 추가한다"
   ]
  },
  {
   "cell_type": "code",
   "execution_count": null,
   "metadata": {},
   "outputs": [
    {
     "data": {
      "text/html": [
       "<div>\n",
       "<style scoped>\n",
       "    .dataframe tbody tr th:only-of-type {\n",
       "        vertical-align: middle;\n",
       "    }\n",
       "\n",
       "    .dataframe tbody tr th {\n",
       "        vertical-align: top;\n",
       "    }\n",
       "\n",
       "    .dataframe thead th {\n",
       "        text-align: right;\n",
       "    }\n",
       "</style>\n",
       "<table border=\"1\" class=\"dataframe\">\n",
       "  <thead>\n",
       "    <tr style=\"text-align: right;\">\n",
       "      <th></th>\n",
       "      <th>Unnamed: 0</th>\n",
       "      <th>id</th>\n",
       "      <th>name</th>\n",
       "      <th>producer</th>\n",
       "      <th>nation</th>\n",
       "      <th>local1</th>\n",
       "      <th>local2</th>\n",
       "      <th>local3</th>\n",
       "      <th>local4</th>\n",
       "      <th>varieties1</th>\n",
       "      <th>...</th>\n",
       "      <th>abv</th>\n",
       "      <th>degree</th>\n",
       "      <th>sweet</th>\n",
       "      <th>acidity</th>\n",
       "      <th>body</th>\n",
       "      <th>tannin</th>\n",
       "      <th>price</th>\n",
       "      <th>year</th>\n",
       "      <th>ml</th>\n",
       "      <th>img_address</th>\n",
       "    </tr>\n",
       "  </thead>\n",
       "  <tbody>\n",
       "    <tr>\n",
       "      <th>0</th>\n",
       "      <td>0</td>\n",
       "      <td>137197</td>\n",
       "      <td>Altair</td>\n",
       "      <td>Altair</td>\n",
       "      <td>Chile</td>\n",
       "      <td>Rapel Valley</td>\n",
       "      <td>NaN</td>\n",
       "      <td>NaN</td>\n",
       "      <td>NaN</td>\n",
       "      <td>Cabernet Sauvignon</td>\n",
       "      <td>...</td>\n",
       "      <td>14~15</td>\n",
       "      <td>17~19</td>\n",
       "      <td>SWEET1</td>\n",
       "      <td>ACIDITY4</td>\n",
       "      <td>BODY5</td>\n",
       "      <td>TANNIN4</td>\n",
       "      <td>220000</td>\n",
       "      <td>2014</td>\n",
       "      <td>750</td>\n",
       "      <td>./archive/imgs/Altair/</td>\n",
       "    </tr>\n",
       "    <tr>\n",
       "      <th>1</th>\n",
       "      <td>1</td>\n",
       "      <td>137198</td>\n",
       "      <td>Altair, Sideral</td>\n",
       "      <td>Altair</td>\n",
       "      <td>Chile</td>\n",
       "      <td>Rapel Valley</td>\n",
       "      <td>NaN</td>\n",
       "      <td>NaN</td>\n",
       "      <td>NaN</td>\n",
       "      <td>Cabernet Sauvignon</td>\n",
       "      <td>...</td>\n",
       "      <td>14~15</td>\n",
       "      <td>16~18</td>\n",
       "      <td>SWEET1</td>\n",
       "      <td>ACIDITY3</td>\n",
       "      <td>BODY4</td>\n",
       "      <td>TANNIN4</td>\n",
       "      <td>110000</td>\n",
       "      <td>2016</td>\n",
       "      <td>750</td>\n",
       "      <td>./archive/imgs/Altair, Sideral/</td>\n",
       "    </tr>\n",
       "    <tr>\n",
       "      <th>2</th>\n",
       "      <td>2</td>\n",
       "      <td>137199</td>\n",
       "      <td>Baron du Val Red</td>\n",
       "      <td>Baron du Val</td>\n",
       "      <td>France</td>\n",
       "      <td>NaN</td>\n",
       "      <td>NaN</td>\n",
       "      <td>NaN</td>\n",
       "      <td>NaN</td>\n",
       "      <td>Carignan</td>\n",
       "      <td>...</td>\n",
       "      <td>11~12</td>\n",
       "      <td>15~17</td>\n",
       "      <td>SWEET2</td>\n",
       "      <td>ACIDITY3</td>\n",
       "      <td>BODY2</td>\n",
       "      <td>TANNIN2</td>\n",
       "      <td>0</td>\n",
       "      <td>0</td>\n",
       "      <td>750</td>\n",
       "      <td>./archive/imgs/Baron du Val Red/</td>\n",
       "    </tr>\n",
       "    <tr>\n",
       "      <th>3</th>\n",
       "      <td>3</td>\n",
       "      <td>137200</td>\n",
       "      <td>Baron du Val White</td>\n",
       "      <td>Baron du Val</td>\n",
       "      <td>France</td>\n",
       "      <td>NaN</td>\n",
       "      <td>NaN</td>\n",
       "      <td>NaN</td>\n",
       "      <td>NaN</td>\n",
       "      <td>Carignan</td>\n",
       "      <td>...</td>\n",
       "      <td>11~12</td>\n",
       "      <td>9~11</td>\n",
       "      <td>SWEET1</td>\n",
       "      <td>ACIDITY3</td>\n",
       "      <td>BODY2</td>\n",
       "      <td>TANNIN1</td>\n",
       "      <td>0</td>\n",
       "      <td>0</td>\n",
       "      <td>750</td>\n",
       "      <td>./archive/imgs/Baron du Val White/</td>\n",
       "    </tr>\n",
       "    <tr>\n",
       "      <th>4</th>\n",
       "      <td>4</td>\n",
       "      <td>137201</td>\n",
       "      <td>Benziger, Cabernet Sauvignon</td>\n",
       "      <td>Benziger</td>\n",
       "      <td>USA</td>\n",
       "      <td>California</td>\n",
       "      <td>NaN</td>\n",
       "      <td>NaN</td>\n",
       "      <td>NaN</td>\n",
       "      <td>Cabernet Sauvignon</td>\n",
       "      <td>...</td>\n",
       "      <td>13~14</td>\n",
       "      <td>17~19</td>\n",
       "      <td>SWEET1</td>\n",
       "      <td>ACIDITY3</td>\n",
       "      <td>BODY3</td>\n",
       "      <td>TANNIN4</td>\n",
       "      <td>0</td>\n",
       "      <td>2003</td>\n",
       "      <td>750</td>\n",
       "      <td>./archive/imgs/Benziger, Cabernet Sauvignon/</td>\n",
       "    </tr>\n",
       "  </tbody>\n",
       "</table>\n",
       "<p>5 rows × 33 columns</p>\n",
       "</div>"
      ],
      "text/plain": [
       "   Unnamed: 0      id                          name      producer  nation  \\\n",
       "0           0  137197                        Altair        Altair   Chile   \n",
       "1           1  137198               Altair, Sideral        Altair   Chile   \n",
       "2           2  137199              Baron du Val Red  Baron du Val  France   \n",
       "3           3  137200            Baron du Val White  Baron du Val  France   \n",
       "4           4  137201  Benziger, Cabernet Sauvignon      Benziger     USA   \n",
       "\n",
       "         local1 local2 local3 local4          varieties1  ...    abv degree  \\\n",
       "0  Rapel Valley    NaN    NaN    NaN  Cabernet Sauvignon  ...  14~15  17~19   \n",
       "1  Rapel Valley    NaN    NaN    NaN  Cabernet Sauvignon  ...  14~15  16~18   \n",
       "2           NaN    NaN    NaN    NaN            Carignan  ...  11~12  15~17   \n",
       "3           NaN    NaN    NaN    NaN            Carignan  ...  11~12   9~11   \n",
       "4    California    NaN    NaN    NaN  Cabernet Sauvignon  ...  13~14  17~19   \n",
       "\n",
       "    sweet   acidity   body   tannin   price  year   ml  \\\n",
       "0  SWEET1  ACIDITY4  BODY5  TANNIN4  220000  2014  750   \n",
       "1  SWEET1  ACIDITY3  BODY4  TANNIN4  110000  2016  750   \n",
       "2  SWEET2  ACIDITY3  BODY2  TANNIN2       0     0  750   \n",
       "3  SWEET1  ACIDITY3  BODY2  TANNIN1       0     0  750   \n",
       "4  SWEET1  ACIDITY3  BODY3  TANNIN4       0  2003  750   \n",
       "\n",
       "                                    img_address  \n",
       "0                        ./archive/imgs/Altair/  \n",
       "1               ./archive/imgs/Altair, Sideral/  \n",
       "2              ./archive/imgs/Baron du Val Red/  \n",
       "3            ./archive/imgs/Baron du Val White/  \n",
       "4  ./archive/imgs/Benziger, Cabernet Sauvignon/  \n",
       "\n",
       "[5 rows x 33 columns]"
      ]
     },
     "execution_count": 5,
     "metadata": {},
     "output_type": "execute_result"
    }
   ],
   "source": [
    "img_address = [\"./archive/imgs/{}/\".format(name) for name in names]\n",
    "data_set[\"img_address\"] = img_address\n",
    "data_set.head()"
   ]
  },
  {
   "cell_type": "markdown",
   "metadata": {},
   "source": [
    "각 변수에 대한 정보는 이렇다.\n",
    "1. id - wine ID\n",
    "2. name - wine Name\n",
    "3. producer -\n",
    "4. nation - Country of origin\n",
    "5. local1 - region1\n",
    "6. local2 - region2\n",
    "7. local3 - region3\n",
    "8. local4 - region4\n",
    "9. ~ 20) varieties1 ~ varieties12 - wine varieties\n",
    "21. type - wine type\n",
    "22. use - wine use\n",
    "23. abv - Alcohol by volume\n",
    "24. degree - Drinking temperature\n",
    "25. sweet - Sweet rank (score between 1 and 5)\n",
    "26. acidity - Acidity rank (score between 1 and 5)\n",
    "27. body - Body rank (score between 1 and 5)\n",
    "28. tannin - Tannin rank (score between 1 and 5)\n",
    "29. price - wine price that based on WON NOT dollars!! (₩, WON)\n",
    "30. year - Production year\n",
    "31. ml - wine Volume (milliliter)\n",
    "32. img_address - address of image file. please add number 1~10"
   ]
  },
  {
   "cell_type": "code",
   "execution_count": null,
   "metadata": {},
   "outputs": [
    {
     "name": "stdout",
     "output_type": "stream",
     "text": [
      "<class 'pandas.core.frame.DataFrame'>\n",
      "RangeIndex: 21605 entries, 0 to 21604\n",
      "Data columns (total 33 columns):\n",
      " #   Column       Non-Null Count  Dtype \n",
      "---  ------       --------------  ----- \n",
      " 0   Unnamed: 0   21605 non-null  int64 \n",
      " 1   id           21605 non-null  int64 \n",
      " 2   name         21605 non-null  object\n",
      " 3   producer     21605 non-null  object\n",
      " 4   nation       21603 non-null  object\n",
      " 5   local1       20705 non-null  object\n",
      " 6   local2       11145 non-null  object\n",
      " 7   local3       3591 non-null   object\n",
      " 8   local4       2 non-null      object\n",
      " 9   varieties1   21256 non-null  object\n",
      " 10  varieties2   7518 non-null   object\n",
      " 11  varieties3   4028 non-null   object\n",
      " 12  varieties4   1330 non-null   object\n",
      " 13  varieties5   379 non-null    object\n",
      " 14  varieties6   105 non-null    object\n",
      " 15  varieties7   31 non-null     object\n",
      " 16  varieties8   18 non-null     object\n",
      " 17  varieties9   7 non-null      object\n",
      " 18  varieties10  6 non-null      object\n",
      " 19  varieties11  5 non-null      object\n",
      " 20  varieties12  4 non-null      object\n",
      " 21  type         21547 non-null  object\n",
      " 22  use          21591 non-null  object\n",
      " 23  abv          14459 non-null  object\n",
      " 24  degree       14460 non-null  object\n",
      " 25  sweet        21603 non-null  object\n",
      " 26  acidity      21592 non-null  object\n",
      " 27  body         21592 non-null  object\n",
      " 28  tannin       21592 non-null  object\n",
      " 29  price        21605 non-null  int64 \n",
      " 30  year         21605 non-null  int64 \n",
      " 31  ml           21605 non-null  int64 \n",
      " 32  img_address  21605 non-null  object\n",
      "dtypes: int64(5), object(28)\n",
      "memory usage: 5.4+ MB\n"
     ]
    }
   ],
   "source": [
    "# 요약하기\n",
    "data_set.info()"
   ]
  },
  {
   "cell_type": "code",
   "execution_count": null,
   "metadata": {},
   "outputs": [
    {
     "data": {
      "text/html": [
       "<div>\n",
       "<style scoped>\n",
       "    .dataframe tbody tr th:only-of-type {\n",
       "        vertical-align: middle;\n",
       "    }\n",
       "\n",
       "    .dataframe tbody tr th {\n",
       "        vertical-align: top;\n",
       "    }\n",
       "\n",
       "    .dataframe thead th {\n",
       "        text-align: right;\n",
       "    }\n",
       "</style>\n",
       "<table border=\"1\" class=\"dataframe\">\n",
       "  <thead>\n",
       "    <tr style=\"text-align: right;\">\n",
       "      <th></th>\n",
       "      <th>Unnamed: 0</th>\n",
       "      <th>id</th>\n",
       "      <th>price</th>\n",
       "      <th>year</th>\n",
       "      <th>ml</th>\n",
       "    </tr>\n",
       "  </thead>\n",
       "  <tbody>\n",
       "    <tr>\n",
       "      <th>count</th>\n",
       "      <td>21605.000000</td>\n",
       "      <td>21605.000000</td>\n",
       "      <td>2.160500e+04</td>\n",
       "      <td>21605.000000</td>\n",
       "      <td>21605.000000</td>\n",
       "    </tr>\n",
       "    <tr>\n",
       "      <th>mean</th>\n",
       "      <td>10802.000000</td>\n",
       "      <td>153998.163666</td>\n",
       "      <td>9.266349e+04</td>\n",
       "      <td>1769.949502</td>\n",
       "      <td>743.899236</td>\n",
       "    </tr>\n",
       "    <tr>\n",
       "      <th>std</th>\n",
       "      <td>6236.970619</td>\n",
       "      <td>9200.852348</td>\n",
       "      <td>2.521565e+05</td>\n",
       "      <td>654.831502</td>\n",
       "      <td>145.181162</td>\n",
       "    </tr>\n",
       "    <tr>\n",
       "      <th>min</th>\n",
       "      <td>0.000000</td>\n",
       "      <td>137197.000000</td>\n",
       "      <td>0.000000e+00</td>\n",
       "      <td>0.000000</td>\n",
       "      <td>0.000000</td>\n",
       "    </tr>\n",
       "    <tr>\n",
       "      <th>25%</th>\n",
       "      <td>5401.000000</td>\n",
       "      <td>146645.000000</td>\n",
       "      <td>0.000000e+00</td>\n",
       "      <td>2006.000000</td>\n",
       "      <td>750.000000</td>\n",
       "    </tr>\n",
       "    <tr>\n",
       "      <th>50%</th>\n",
       "      <td>10802.000000</td>\n",
       "      <td>153748.000000</td>\n",
       "      <td>3.000000e+04</td>\n",
       "      <td>2012.000000</td>\n",
       "      <td>750.000000</td>\n",
       "    </tr>\n",
       "    <tr>\n",
       "      <th>75%</th>\n",
       "      <td>16203.000000</td>\n",
       "      <td>162431.000000</td>\n",
       "      <td>8.900000e+04</td>\n",
       "      <td>2016.000000</td>\n",
       "      <td>750.000000</td>\n",
       "    </tr>\n",
       "    <tr>\n",
       "      <th>max</th>\n",
       "      <td>21604.000000</td>\n",
       "      <td>168707.000000</td>\n",
       "      <td>8.000000e+06</td>\n",
       "      <td>2020.000000</td>\n",
       "      <td>6000.000000</td>\n",
       "    </tr>\n",
       "  </tbody>\n",
       "</table>\n",
       "</div>"
      ],
      "text/plain": [
       "         Unnamed: 0             id         price          year            ml\n",
       "count  21605.000000   21605.000000  2.160500e+04  21605.000000  21605.000000\n",
       "mean   10802.000000  153998.163666  9.266349e+04   1769.949502    743.899236\n",
       "std     6236.970619    9200.852348  2.521565e+05    654.831502    145.181162\n",
       "min        0.000000  137197.000000  0.000000e+00      0.000000      0.000000\n",
       "25%     5401.000000  146645.000000  0.000000e+00   2006.000000    750.000000\n",
       "50%    10802.000000  153748.000000  3.000000e+04   2012.000000    750.000000\n",
       "75%    16203.000000  162431.000000  8.900000e+04   2016.000000    750.000000\n",
       "max    21604.000000  168707.000000  8.000000e+06   2020.000000   6000.000000"
      ]
     },
     "execution_count": 7,
     "metadata": {},
     "output_type": "execute_result"
    }
   ],
   "source": [
    "# 수치형 변수 요약하기\n",
    "data_set.describe()"
   ]
  },
  {
   "cell_type": "markdown",
   "metadata": {},
   "source": [
    "## 2. 데이터 정제\n",
    "\n",
    "결측값(missing value), 이상치(outlier)를 처리한다.\n"
   ]
  },
  {
   "cell_type": "code",
   "execution_count": null,
   "metadata": {},
   "outputs": [
    {
     "data": {
      "text/html": [
       "<div>\n",
       "<style scoped>\n",
       "    .dataframe tbody tr th:only-of-type {\n",
       "        vertical-align: middle;\n",
       "    }\n",
       "\n",
       "    .dataframe tbody tr th {\n",
       "        vertical-align: top;\n",
       "    }\n",
       "\n",
       "    .dataframe thead th {\n",
       "        text-align: right;\n",
       "    }\n",
       "</style>\n",
       "<table border=\"1\" class=\"dataframe\">\n",
       "  <thead>\n",
       "    <tr style=\"text-align: right;\">\n",
       "      <th></th>\n",
       "      <th>name</th>\n",
       "      <th>producer</th>\n",
       "      <th>nation</th>\n",
       "      <th>local1</th>\n",
       "      <th>local2</th>\n",
       "      <th>local3</th>\n",
       "      <th>local4</th>\n",
       "      <th>varieties1</th>\n",
       "      <th>varieties2</th>\n",
       "      <th>varieties3</th>\n",
       "      <th>...</th>\n",
       "      <th>abv</th>\n",
       "      <th>degree</th>\n",
       "      <th>sweet</th>\n",
       "      <th>acidity</th>\n",
       "      <th>body</th>\n",
       "      <th>tannin</th>\n",
       "      <th>price</th>\n",
       "      <th>year</th>\n",
       "      <th>ml</th>\n",
       "      <th>img_address</th>\n",
       "    </tr>\n",
       "  </thead>\n",
       "  <tbody>\n",
       "    <tr>\n",
       "      <th>0</th>\n",
       "      <td>Altair</td>\n",
       "      <td>Altair</td>\n",
       "      <td>Chile</td>\n",
       "      <td>Rapel Valley</td>\n",
       "      <td>NaN</td>\n",
       "      <td>NaN</td>\n",
       "      <td>NaN</td>\n",
       "      <td>Cabernet Sauvignon</td>\n",
       "      <td>Carmenere</td>\n",
       "      <td>Merlot</td>\n",
       "      <td>...</td>\n",
       "      <td>14~15</td>\n",
       "      <td>17~19</td>\n",
       "      <td>SWEET1</td>\n",
       "      <td>ACIDITY4</td>\n",
       "      <td>BODY5</td>\n",
       "      <td>TANNIN4</td>\n",
       "      <td>220000</td>\n",
       "      <td>2014</td>\n",
       "      <td>750</td>\n",
       "      <td>./archive/imgs/Altair/</td>\n",
       "    </tr>\n",
       "    <tr>\n",
       "      <th>1</th>\n",
       "      <td>Altair, Sideral</td>\n",
       "      <td>Altair</td>\n",
       "      <td>Chile</td>\n",
       "      <td>Rapel Valley</td>\n",
       "      <td>NaN</td>\n",
       "      <td>NaN</td>\n",
       "      <td>NaN</td>\n",
       "      <td>Cabernet Sauvignon</td>\n",
       "      <td>Merlot</td>\n",
       "      <td>Carmenere</td>\n",
       "      <td>...</td>\n",
       "      <td>14~15</td>\n",
       "      <td>16~18</td>\n",
       "      <td>SWEET1</td>\n",
       "      <td>ACIDITY3</td>\n",
       "      <td>BODY4</td>\n",
       "      <td>TANNIN4</td>\n",
       "      <td>110000</td>\n",
       "      <td>2016</td>\n",
       "      <td>750</td>\n",
       "      <td>./archive/imgs/Altair, Sideral/</td>\n",
       "    </tr>\n",
       "    <tr>\n",
       "      <th>2</th>\n",
       "      <td>Baron du Val Red</td>\n",
       "      <td>Baron du Val</td>\n",
       "      <td>France</td>\n",
       "      <td>NaN</td>\n",
       "      <td>NaN</td>\n",
       "      <td>NaN</td>\n",
       "      <td>NaN</td>\n",
       "      <td>Carignan</td>\n",
       "      <td>Cinsault</td>\n",
       "      <td>Syrah &amp; Shiraz</td>\n",
       "      <td>...</td>\n",
       "      <td>11~12</td>\n",
       "      <td>15~17</td>\n",
       "      <td>SWEET2</td>\n",
       "      <td>ACIDITY3</td>\n",
       "      <td>BODY2</td>\n",
       "      <td>TANNIN2</td>\n",
       "      <td>0</td>\n",
       "      <td>0</td>\n",
       "      <td>750</td>\n",
       "      <td>./archive/imgs/Baron du Val Red/</td>\n",
       "    </tr>\n",
       "    <tr>\n",
       "      <th>3</th>\n",
       "      <td>Baron du Val White</td>\n",
       "      <td>Baron du Val</td>\n",
       "      <td>France</td>\n",
       "      <td>NaN</td>\n",
       "      <td>NaN</td>\n",
       "      <td>NaN</td>\n",
       "      <td>NaN</td>\n",
       "      <td>Carignan</td>\n",
       "      <td>Ugni​ blanc</td>\n",
       "      <td>Grenache Blanc</td>\n",
       "      <td>...</td>\n",
       "      <td>11~12</td>\n",
       "      <td>9~11</td>\n",
       "      <td>SWEET1</td>\n",
       "      <td>ACIDITY3</td>\n",
       "      <td>BODY2</td>\n",
       "      <td>TANNIN1</td>\n",
       "      <td>0</td>\n",
       "      <td>0</td>\n",
       "      <td>750</td>\n",
       "      <td>./archive/imgs/Baron du Val White/</td>\n",
       "    </tr>\n",
       "    <tr>\n",
       "      <th>4</th>\n",
       "      <td>Benziger, Cabernet Sauvignon</td>\n",
       "      <td>Benziger</td>\n",
       "      <td>USA</td>\n",
       "      <td>California</td>\n",
       "      <td>NaN</td>\n",
       "      <td>NaN</td>\n",
       "      <td>NaN</td>\n",
       "      <td>Cabernet Sauvignon</td>\n",
       "      <td>NaN</td>\n",
       "      <td>NaN</td>\n",
       "      <td>...</td>\n",
       "      <td>13~14</td>\n",
       "      <td>17~19</td>\n",
       "      <td>SWEET1</td>\n",
       "      <td>ACIDITY3</td>\n",
       "      <td>BODY3</td>\n",
       "      <td>TANNIN4</td>\n",
       "      <td>0</td>\n",
       "      <td>2003</td>\n",
       "      <td>750</td>\n",
       "      <td>./archive/imgs/Benziger, Cabernet Sauvignon/</td>\n",
       "    </tr>\n",
       "  </tbody>\n",
       "</table>\n",
       "<p>5 rows × 31 columns</p>\n",
       "</div>"
      ],
      "text/plain": [
       "                           name      producer  nation        local1 local2  \\\n",
       "0                        Altair        Altair   Chile  Rapel Valley    NaN   \n",
       "1               Altair, Sideral        Altair   Chile  Rapel Valley    NaN   \n",
       "2              Baron du Val Red  Baron du Val  France           NaN    NaN   \n",
       "3            Baron du Val White  Baron du Val  France           NaN    NaN   \n",
       "4  Benziger, Cabernet Sauvignon      Benziger     USA    California    NaN   \n",
       "\n",
       "  local3 local4          varieties1   varieties2      varieties3  ...    abv  \\\n",
       "0    NaN    NaN  Cabernet Sauvignon    Carmenere          Merlot  ...  14~15   \n",
       "1    NaN    NaN  Cabernet Sauvignon       Merlot       Carmenere  ...  14~15   \n",
       "2    NaN    NaN            Carignan     Cinsault  Syrah & Shiraz  ...  11~12   \n",
       "3    NaN    NaN            Carignan  Ugni​ blanc  Grenache Blanc  ...  11~12   \n",
       "4    NaN    NaN  Cabernet Sauvignon          NaN             NaN  ...  13~14   \n",
       "\n",
       "  degree   sweet   acidity   body   tannin   price  year   ml  \\\n",
       "0  17~19  SWEET1  ACIDITY4  BODY5  TANNIN4  220000  2014  750   \n",
       "1  16~18  SWEET1  ACIDITY3  BODY4  TANNIN4  110000  2016  750   \n",
       "2  15~17  SWEET2  ACIDITY3  BODY2  TANNIN2       0     0  750   \n",
       "3   9~11  SWEET1  ACIDITY3  BODY2  TANNIN1       0     0  750   \n",
       "4  17~19  SWEET1  ACIDITY3  BODY3  TANNIN4       0  2003  750   \n",
       "\n",
       "                                    img_address  \n",
       "0                        ./archive/imgs/Altair/  \n",
       "1               ./archive/imgs/Altair, Sideral/  \n",
       "2              ./archive/imgs/Baron du Val Red/  \n",
       "3            ./archive/imgs/Baron du Val White/  \n",
       "4  ./archive/imgs/Benziger, Cabernet Sauvignon/  \n",
       "\n",
       "[5 rows x 31 columns]"
      ]
     },
     "execution_count": 8,
     "metadata": {},
     "output_type": "execute_result"
    }
   ],
   "source": [
    "# 불필요한 변수 두 가지를 삭제합니다.\n",
    "df_clean = data_set.drop(columns=[\"Unnamed: 0\", \"id\"])\n",
    "df_clean.head()"
   ]
  },
  {
   "cell_type": "markdown",
   "metadata": {},
   "source": [
    "### 2.1 결측값 확인"
   ]
  },
  {
   "cell_type": "code",
   "execution_count": null,
   "metadata": {},
   "outputs": [
    {
     "data": {
      "text/plain": [
       "name               0\n",
       "producer           0\n",
       "nation             2\n",
       "local1           900\n",
       "local2         10460\n",
       "local3         18014\n",
       "local4         21603\n",
       "varieties1       349\n",
       "varieties2     14087\n",
       "varieties3     17577\n",
       "varieties4     20275\n",
       "varieties5     21226\n",
       "varieties6     21500\n",
       "varieties7     21574\n",
       "varieties8     21587\n",
       "varieties9     21598\n",
       "varieties10    21599\n",
       "varieties11    21600\n",
       "varieties12    21601\n",
       "type              58\n",
       "use               14\n",
       "abv             7146\n",
       "degree          7145\n",
       "sweet              2\n",
       "acidity           13\n",
       "body              13\n",
       "tannin            13\n",
       "price              0\n",
       "year               0\n",
       "ml                 0\n",
       "img_address        0\n",
       "dtype: int64"
      ]
     },
     "execution_count": 9,
     "metadata": {},
     "output_type": "execute_result"
    }
   ],
   "source": [
    "df_clean.isnull().sum()"
   ]
  },
  {
   "cell_type": "markdown",
   "metadata": {},
   "source": [
    "### 2-2. 결측값 처리\n",
    "\n",
    " 결측치가 많은 변수를 삭제해준다\n",
    "   - local3, 4\n",
    "   - varieties7,8,9,10,11,12"
   ]
  },
  {
   "cell_type": "code",
   "execution_count": null,
   "metadata": {},
   "outputs": [
    {
     "data": {
      "text/html": [
       "<div>\n",
       "<style scoped>\n",
       "    .dataframe tbody tr th:only-of-type {\n",
       "        vertical-align: middle;\n",
       "    }\n",
       "\n",
       "    .dataframe tbody tr th {\n",
       "        vertical-align: top;\n",
       "    }\n",
       "\n",
       "    .dataframe thead th {\n",
       "        text-align: right;\n",
       "    }\n",
       "</style>\n",
       "<table border=\"1\" class=\"dataframe\">\n",
       "  <thead>\n",
       "    <tr style=\"text-align: right;\">\n",
       "      <th></th>\n",
       "      <th>name</th>\n",
       "      <th>producer</th>\n",
       "      <th>nation</th>\n",
       "      <th>local1</th>\n",
       "      <th>local2</th>\n",
       "      <th>varieties1</th>\n",
       "      <th>varieties2</th>\n",
       "      <th>varieties3</th>\n",
       "      <th>varieties4</th>\n",
       "      <th>varieties5</th>\n",
       "      <th>...</th>\n",
       "      <th>abv</th>\n",
       "      <th>degree</th>\n",
       "      <th>sweet</th>\n",
       "      <th>acidity</th>\n",
       "      <th>body</th>\n",
       "      <th>tannin</th>\n",
       "      <th>price</th>\n",
       "      <th>year</th>\n",
       "      <th>ml</th>\n",
       "      <th>img_address</th>\n",
       "    </tr>\n",
       "  </thead>\n",
       "  <tbody>\n",
       "    <tr>\n",
       "      <th>0</th>\n",
       "      <td>Altair</td>\n",
       "      <td>Altair</td>\n",
       "      <td>Chile</td>\n",
       "      <td>Rapel Valley</td>\n",
       "      <td>NaN</td>\n",
       "      <td>Cabernet Sauvignon</td>\n",
       "      <td>Carmenere</td>\n",
       "      <td>Merlot</td>\n",
       "      <td>NaN</td>\n",
       "      <td>NaN</td>\n",
       "      <td>...</td>\n",
       "      <td>14~15</td>\n",
       "      <td>17~19</td>\n",
       "      <td>SWEET1</td>\n",
       "      <td>ACIDITY4</td>\n",
       "      <td>BODY5</td>\n",
       "      <td>TANNIN4</td>\n",
       "      <td>220000</td>\n",
       "      <td>2014</td>\n",
       "      <td>750</td>\n",
       "      <td>./archive/imgs/Altair/</td>\n",
       "    </tr>\n",
       "    <tr>\n",
       "      <th>1</th>\n",
       "      <td>Altair, Sideral</td>\n",
       "      <td>Altair</td>\n",
       "      <td>Chile</td>\n",
       "      <td>Rapel Valley</td>\n",
       "      <td>NaN</td>\n",
       "      <td>Cabernet Sauvignon</td>\n",
       "      <td>Merlot</td>\n",
       "      <td>Carmenere</td>\n",
       "      <td>Cabernet Franc</td>\n",
       "      <td>Syrah &amp; Shiraz</td>\n",
       "      <td>...</td>\n",
       "      <td>14~15</td>\n",
       "      <td>16~18</td>\n",
       "      <td>SWEET1</td>\n",
       "      <td>ACIDITY3</td>\n",
       "      <td>BODY4</td>\n",
       "      <td>TANNIN4</td>\n",
       "      <td>110000</td>\n",
       "      <td>2016</td>\n",
       "      <td>750</td>\n",
       "      <td>./archive/imgs/Altair, Sideral/</td>\n",
       "    </tr>\n",
       "    <tr>\n",
       "      <th>2</th>\n",
       "      <td>Baron du Val Red</td>\n",
       "      <td>Baron du Val</td>\n",
       "      <td>France</td>\n",
       "      <td>NaN</td>\n",
       "      <td>NaN</td>\n",
       "      <td>Carignan</td>\n",
       "      <td>Cinsault</td>\n",
       "      <td>Syrah &amp; Shiraz</td>\n",
       "      <td>Grenache Noir</td>\n",
       "      <td>NaN</td>\n",
       "      <td>...</td>\n",
       "      <td>11~12</td>\n",
       "      <td>15~17</td>\n",
       "      <td>SWEET2</td>\n",
       "      <td>ACIDITY3</td>\n",
       "      <td>BODY2</td>\n",
       "      <td>TANNIN2</td>\n",
       "      <td>0</td>\n",
       "      <td>0</td>\n",
       "      <td>750</td>\n",
       "      <td>./archive/imgs/Baron du Val Red/</td>\n",
       "    </tr>\n",
       "    <tr>\n",
       "      <th>3</th>\n",
       "      <td>Baron du Val White</td>\n",
       "      <td>Baron du Val</td>\n",
       "      <td>France</td>\n",
       "      <td>NaN</td>\n",
       "      <td>NaN</td>\n",
       "      <td>Carignan</td>\n",
       "      <td>Ugni​ blanc</td>\n",
       "      <td>Grenache Blanc</td>\n",
       "      <td>Picpoul</td>\n",
       "      <td>NaN</td>\n",
       "      <td>...</td>\n",
       "      <td>11~12</td>\n",
       "      <td>9~11</td>\n",
       "      <td>SWEET1</td>\n",
       "      <td>ACIDITY3</td>\n",
       "      <td>BODY2</td>\n",
       "      <td>TANNIN1</td>\n",
       "      <td>0</td>\n",
       "      <td>0</td>\n",
       "      <td>750</td>\n",
       "      <td>./archive/imgs/Baron du Val White/</td>\n",
       "    </tr>\n",
       "    <tr>\n",
       "      <th>4</th>\n",
       "      <td>Benziger, Cabernet Sauvignon</td>\n",
       "      <td>Benziger</td>\n",
       "      <td>USA</td>\n",
       "      <td>California</td>\n",
       "      <td>NaN</td>\n",
       "      <td>Cabernet Sauvignon</td>\n",
       "      <td>NaN</td>\n",
       "      <td>NaN</td>\n",
       "      <td>NaN</td>\n",
       "      <td>NaN</td>\n",
       "      <td>...</td>\n",
       "      <td>13~14</td>\n",
       "      <td>17~19</td>\n",
       "      <td>SWEET1</td>\n",
       "      <td>ACIDITY3</td>\n",
       "      <td>BODY3</td>\n",
       "      <td>TANNIN4</td>\n",
       "      <td>0</td>\n",
       "      <td>2003</td>\n",
       "      <td>750</td>\n",
       "      <td>./archive/imgs/Benziger, Cabernet Sauvignon/</td>\n",
       "    </tr>\n",
       "  </tbody>\n",
       "</table>\n",
       "<p>5 rows × 23 columns</p>\n",
       "</div>"
      ],
      "text/plain": [
       "                           name      producer  nation        local1 local2  \\\n",
       "0                        Altair        Altair   Chile  Rapel Valley    NaN   \n",
       "1               Altair, Sideral        Altair   Chile  Rapel Valley    NaN   \n",
       "2              Baron du Val Red  Baron du Val  France           NaN    NaN   \n",
       "3            Baron du Val White  Baron du Val  France           NaN    NaN   \n",
       "4  Benziger, Cabernet Sauvignon      Benziger     USA    California    NaN   \n",
       "\n",
       "           varieties1   varieties2      varieties3      varieties4  \\\n",
       "0  Cabernet Sauvignon    Carmenere          Merlot             NaN   \n",
       "1  Cabernet Sauvignon       Merlot       Carmenere  Cabernet Franc   \n",
       "2            Carignan     Cinsault  Syrah & Shiraz   Grenache Noir   \n",
       "3            Carignan  Ugni​ blanc  Grenache Blanc         Picpoul   \n",
       "4  Cabernet Sauvignon          NaN             NaN             NaN   \n",
       "\n",
       "       varieties5  ...    abv degree   sweet   acidity   body   tannin  \\\n",
       "0             NaN  ...  14~15  17~19  SWEET1  ACIDITY4  BODY5  TANNIN4   \n",
       "1  Syrah & Shiraz  ...  14~15  16~18  SWEET1  ACIDITY3  BODY4  TANNIN4   \n",
       "2             NaN  ...  11~12  15~17  SWEET2  ACIDITY3  BODY2  TANNIN2   \n",
       "3             NaN  ...  11~12   9~11  SWEET1  ACIDITY3  BODY2  TANNIN1   \n",
       "4             NaN  ...  13~14  17~19  SWEET1  ACIDITY3  BODY3  TANNIN4   \n",
       "\n",
       "    price  year   ml                                   img_address  \n",
       "0  220000  2014  750                        ./archive/imgs/Altair/  \n",
       "1  110000  2016  750               ./archive/imgs/Altair, Sideral/  \n",
       "2       0     0  750              ./archive/imgs/Baron du Val Red/  \n",
       "3       0     0  750            ./archive/imgs/Baron du Val White/  \n",
       "4       0  2003  750  ./archive/imgs/Benziger, Cabernet Sauvignon/  \n",
       "\n",
       "[5 rows x 23 columns]"
      ]
     },
     "execution_count": 10,
     "metadata": {},
     "output_type": "execute_result"
    }
   ],
   "source": [
    "# nation 결측값 처리\n",
    "df_clean = df_clean.drop(['local3','local4','varieties7','varieties8','varieties9','varieties10','varieties11','varieties12'], axis=1)\n",
    "df_clean.head()"
   ]
  },
  {
   "cell_type": "code",
   "execution_count": null,
   "metadata": {},
   "outputs": [
    {
     "data": {
      "text/plain": [
       "name               0\n",
       "producer           0\n",
       "nation             2\n",
       "local1           900\n",
       "local2         10460\n",
       "varieties1       349\n",
       "varieties2     14087\n",
       "varieties3     17577\n",
       "varieties4     20275\n",
       "varieties5     21226\n",
       "varieties6     21500\n",
       "type              58\n",
       "use               14\n",
       "abv             7146\n",
       "degree          7145\n",
       "sweet              2\n",
       "acidity           13\n",
       "body              13\n",
       "tannin            13\n",
       "price              0\n",
       "year               0\n",
       "ml                 0\n",
       "img_address        0\n",
       "dtype: int64"
      ]
     },
     "execution_count": 11,
     "metadata": {},
     "output_type": "execute_result"
    }
   ],
   "source": [
    "df_clean.isnull().sum()"
   ]
  },
  {
   "cell_type": "markdown",
   "metadata": {},
   "source": [
    "## 3. 데이터 시각화\n",
    "\n",
    "각 변수 분포를 알아보기 위해 데이터 시각화를 수행한다.\n"
   ]
  },
  {
   "cell_type": "code",
   "execution_count": null,
   "metadata": {},
   "outputs": [],
   "source": [
    "# 시각화 라이브러리 import\n",
    "import matplotlib.pyplot as plt\n",
    "import seaborn as sns"
   ]
  },
  {
   "cell_type": "markdown",
   "metadata": {},
   "source": [
    "### 3-1. 상품 개수에 관한 시각화\n",
    "\n",
    "모든 국가를 하기엔 디스플리이가 협소하므로 생산 품목 수가 50개 이상인 국가로 제한한다."
   ]
  },
  {
   "cell_type": "markdown",
   "metadata": {},
   "source": [
    "#### 국가별 상품 개수"
   ]
  },
  {
   "cell_type": "code",
   "execution_count": null,
   "metadata": {},
   "outputs": [
    {
     "name": "stderr",
     "output_type": "stream",
     "text": [
      "/home/lee/.local/lib/python3.6/site-packages/seaborn/_decorators.py:43: FutureWarning: Pass the following variables as keyword args: x, y. From version 0.12, the only valid positional argument will be `data`, and passing other arguments without an explicit keyword will result in an error or misinterpretation.\n",
      "  FutureWarning\n"
     ]
    },
    {
     "data": {
      "image/png": "[encoded data removed]",
      "text/plain": [
       "<Figure size 2160x720 with 1 Axes>"
      ]
     },
     "metadata": {},
     "output_type": "display_data"
    }
   ],
   "source": [
    "plt.figure(figsize=(30,10))\n",
    "data = df_clean['nation'].value_counts()\n",
    "data = data[data.values > 50]\n",
    "plt.title(\"The number of production by nation\", fontsize=25)\n",
    "ax = sns.barplot(data.index, data.values, x = \"index\", y = \"value\")\n",
    "\n",
    "top_6_nations = list(data[:6].index)\n"
   ]
  },
  {
   "cell_type": "markdown",
   "metadata": {},
   "source": [
    "프랑스, 이탈리아, 미국, 칠레, 스페인, 오스트레일리아 순으로 생산량이 많은 것을 확인 할 수 있다."
   ]
  },
  {
   "cell_type": "markdown",
   "metadata": {},
   "source": [
    "#### 주요 생산국 중 최대 생산 지역 Top 5\n",
    "\n",
    " 주요 생산국 (프랑스, 이탈리아, 미국, 칠레, 스페인, 오스트레일리아) 데이터에서 각 국가마다 지역별 순위를 알아본다."
   ]
  },
  {
   "cell_type": "code",
   "execution_count": null,
   "metadata": {},
   "outputs": [
    {
     "name": "stderr",
     "output_type": "stream",
     "text": [
      "/home/lee/.local/lib/python3.6/site-packages/seaborn/_decorators.py:43: FutureWarning: Pass the following variables as keyword args: x, y. From version 0.12, the only valid positional argument will be `data`, and passing other arguments without an explicit keyword will result in an error or misinterpretation.\n",
      "  FutureWarning\n",
      "/home/lee/.local/lib/python3.6/site-packages/seaborn/_decorators.py:43: FutureWarning: Pass the following variables as keyword args: x, y. From version 0.12, the only valid positional argument will be `data`, and passing other arguments without an explicit keyword will result in an error or misinterpretation.\n",
      "  FutureWarning\n",
      "/home/lee/.local/lib/python3.6/site-packages/seaborn/_decorators.py:43: FutureWarning: Pass the following variables as keyword args: x, y. From version 0.12, the only valid positional argument will be `data`, and passing other arguments without an explicit keyword will result in an error or misinterpretation.\n",
      "  FutureWarning\n",
      "/home/lee/.local/lib/python3.6/site-packages/seaborn/_decorators.py:43: FutureWarning: Pass the following variables as keyword args: x, y. From version 0.12, the only valid positional argument will be `data`, and passing other arguments without an explicit keyword will result in an error or misinterpretation.\n",
      "  FutureWarning\n",
      "/home/lee/.local/lib/python3.6/site-packages/seaborn/_decorators.py:43: FutureWarning: Pass the following variables as keyword args: x, y. From version 0.12, the only valid positional argument will be `data`, and passing other arguments without an explicit keyword will result in an error or misinterpretation.\n",
      "  FutureWarning\n",
      "/home/lee/.local/lib/python3.6/site-packages/seaborn/_decorators.py:43: FutureWarning: Pass the following variables as keyword args: x, y. From version 0.12, the only valid positional argument will be `data`, and passing other arguments without an explicit keyword will result in an error or misinterpretation.\n",
      "  FutureWarning\n"
     ]
    },
    {
     "data": {
      "image/png": "[encoded data removed]",
      "text/plain": [
       "<Figure size 2160x1440 with 6 Axes>"
      ]
     },
     "metadata": {},
     "output_type": "display_data"
    }
   ],
   "source": [
    "fig, axes = plt.subplots(2,3, figsize=(30,20))\n",
    "fig.suptitle(\"The number of production by local\", fontsize=20)\n",
    "\n",
    "x, y = 0, 0\n",
    "for idx in range(len(top_6_nations)):\n",
    "\n",
    "    data = df_clean[df_clean['nation'] == top_6_nations[idx]]\n",
    "    data = data[\"local1\"].value_counts()[:5]\n",
    "    if idx <3 :\n",
    "        sns.barplot(data.index,data.values, palette='pastel', ax=axes[x,y])\n",
    "        axes[x,y].set_title(top_6_nations[idx], fontsize=20)\n",
    "        axes[x,y].set(ylim=(0, 2500))                                           # 객관적인 비교를 위해서 범주를 최댓값보다 큰 값으로 통일한다.\n",
    "        y += 1\n",
    "        if idx == 2:\n",
    "            x += 1\n",
    "            y = 0\n",
    "    else:\n",
    "        sns.barplot(data.index,data.values, palette='pastel', ax=axes[x,y])\n",
    "        axes[x,y].set_title(top_6_nations[idx], fontsize=20)\n",
    "        axes[x,y].set(ylim=(0, 2500))                                           # 객관적인 비교를 위해서 범주를 최댓값보다 큰 값으로 통일한다.\n",
    "        y += 1\n"
   ]
  },
  {
   "cell_type": "markdown",
   "metadata": {},
   "source": [
    "지역순으로 봤을 때는, 프랑스의 보르고뉴와 미국의 캘리포니아가 1,2위를 다퉜다.\n",
    "프랑스의 두 지역인 보르고뉴와 보르도가 각각 세계 1위 3위 생산량을 기록하는걸 알 수 있다."
   ]
  },
  {
   "cell_type": "markdown",
   "metadata": {},
   "source": [
    "### 3.2 유형별 상품 개수 시각화\n"
   ]
  },
  {
   "cell_type": "markdown",
   "metadata": {},
   "source": [
    "#### 와인 유형(Red, White, Spakling, Rose 등)별 개수 시각화"
   ]
  },
  {
   "cell_type": "code",
   "execution_count": null,
   "metadata": {},
   "outputs": [
    {
     "data": {
      "image/png": "[encoded data removed]",
      "text/plain": [
       "<Figure size 720x432 with 1 Axes>"
      ]
     },
     "metadata": {},
     "output_type": "display_data"
    }
   ],
   "source": [
    "# count producer\n",
    "plt.figure(figsize=(10,6))\n",
    "plt.title(\"The number of production by type\", fontsize=25)\n",
    "\n",
    "sns.set_theme(style='darkgrid')\n",
    "ax = sns.countplot(x=\"type\", data=df_clean, palette='pastel')"
   ]
  },
  {
   "cell_type": "markdown",
   "metadata": {},
   "source": [
    "레드와인 제품이 압도적으로 많음을 확인할 수 있다."
   ]
  },
  {
   "cell_type": "markdown",
   "metadata": {},
   "source": [
    "#### 와인 용도(Table, Appetiger, Dessert)별 개수"
   ]
  },
  {
   "cell_type": "code",
   "execution_count": null,
   "metadata": {},
   "outputs": [
    {
     "data": {
      "image/png": "[encoded data removed]",
      "text/plain": [
       "<Figure size 2160x432 with 1 Axes>"
      ]
     },
     "metadata": {},
     "output_type": "display_data"
    }
   ],
   "source": [
    "# count producer\n",
    "plt.figure(figsize=(30,6))\n",
    "plt.title(\"The number of production by use\", fontsize=25)\n",
    "\n",
    "sns.set_theme(style='darkgrid')\n",
    "ax = sns.countplot(x=\"use\", data=df_clean, palette='pastel')"
   ]
  },
  {
   "cell_type": "markdown",
   "metadata": {},
   "source": [
    "테이블 와인 용도로 나오는 상품이 가장 많음을 알 수 있다."
   ]
  },
  {
   "cell_type": "markdown",
   "metadata": {},
   "source": [
    "## 4. 데이터 전처리\n",
    "\n",
    "크롤링을 진행하면서 데이터는 항목별로 잘 정리되어 있다.\n",
    "- ImageDataGenerator를 이용해서 데이터를 0~1 범위로 rescale 한다.\n",
    "- flow_from_directory 메서드를 사용해서 label데이터를 디렉토리 이름에서 찾도록 한다.\n",
    "- 훈련용 데이터와 검증용 데이터를 분리한다."
   ]
  },
  {
   "cell_type": "code",
   "execution_count": null,
   "metadata": {},
   "outputs": [
    {
     "name": "stdout",
     "output_type": "stream",
     "text": [
      "Found 200 images belonging to 20 classes.\n",
      "Found 200 images belonging to 20 classes.\n"
     ]
    }
   ],
   "source": [
    "import tensorflow as tf\n",
    "\n",
    "TRAINING_DIR = \"./archive/imgs\"\n",
    "training_datagen = tf.keras.preprocessing.image.ImageDataGenerator(rescale=1/255)\n",
    "\n",
    "train_generator = training_datagen.flow_from_directory(TRAINING_DIR, target_size =(150, 150), class_mode=\"categorical\")\n",
    "validation_generator = training_datagen.flow_from_directory(TRAINING_DIR, target_size =(150, 150), class_mode=\"categorical\")\n",
    "\n"
   ]
  },
  {
   "cell_type": "markdown",
   "metadata": {},
   "source": [
    "## 5. 머신러닝 기본학습\n"
   ]
  },
  {
   "cell_type": "markdown",
   "metadata": {},
   "source": [
    "### 5.1 모델 구현\n",
    "\n",
    "CNN 모델을 구현한다."
   ]
  },
  {
   "cell_type": "code",
   "execution_count": null,
   "metadata": {},
   "outputs": [],
   "source": [
    "model = tf.keras.models.Sequential([\n",
    "    tf.keras.layers.Conv2D(64, (3,3), activation=\"relu\", input_shape=(150, 150, 3)),\n",
    "    tf.keras.layers.MaxPooling2D(2,2),\n",
    "    tf.keras.layers.Conv2D(64, (3,3), activation=\"relu\"),\n",
    "    tf.keras.layers.MaxPooling2D(2,2),\n",
    "    tf.keras.layers.Conv2D(128, (3,3), activation=\"relu\"),\n",
    "    tf.keras.layers.MaxPooling2D(2,2),\n",
    "    tf.keras.layers.Conv2D(128, (3,3), activation=\"relu\"),\n",
    "    tf.keras.layers.MaxPooling2D(2,2),\n",
    "\n",
    "    # Flatten the results to feed into a DNN\n",
    "    tf.keras.layers.Flatten(),\n",
    "    tf.keras.layers.Dropout(0.5),\n",
    "    # 512 neuron hidden layer\n",
    "    tf.keras.layers.Dense(512,activation=\"relu\"),\n",
    "    tf.keras.layers.Dense(20, activation=\"softmax\")\n",
    "])"
   ]
  },
  {
   "cell_type": "markdown",
   "metadata": {},
   "source": [
    "### 5.2 학습 수행"
   ]
  },
  {
   "cell_type": "code",
   "execution_count": null,
   "metadata": {},
   "outputs": [],
   "source": [
    "model.compile(loss='categorical_crossentropy', optimizer='rmsprop', metrics=['accuracy'])\n"
   ]
  },
  {
   "cell_type": "code",
   "execution_count": null,
   "metadata": {},
   "outputs": [
    {
     "name": "stderr",
     "output_type": "stream",
     "text": [
      "/home/lee/.local/lib/python3.6/site-packages/tensorflow/python/keras/engine/training.py:1940: UserWarning: `Model.fit_generator` is deprecated and will be removed in a future version. Please use `Model.fit`, which supports generators.\n",
      "  warnings.warn('`Model.fit_generator` is deprecated and '\n"
     ]
    },
    {
     "name": "stdout",
     "output_type": "stream",
     "text": [
      "Epoch 1/20\n",
      "7/7 [==============================] - 18s 2s/step - loss: 1.0036 - accuracy: 0.6900 - val_loss: 0.7379 - val_accuracy: 0.7700\n",
      "Epoch 2/20\n",
      "7/7 [==============================] - 17s 3s/step - loss: 0.7073 - accuracy: 0.7900 - val_loss: 0.4600 - val_accuracy: 0.8900\n",
      "Epoch 3/20\n",
      "7/7 [==============================] - 18s 3s/step - loss: 0.6347 - accuracy: 0.8200 - val_loss: 0.4786 - val_accuracy: 0.8950\n",
      "Epoch 4/20\n",
      "7/7 [==============================] - 17s 2s/step - loss: 0.7289 - accuracy: 0.8100 - val_loss: 0.3848 - val_accuracy: 0.9000\n",
      "Epoch 5/20\n",
      "7/7 [==============================] - 21s 3s/step - loss: 0.5862 - accuracy: 0.8600 - val_loss: 0.2578 - val_accuracy: 0.9200\n",
      "Epoch 6/20\n",
      "7/7 [==============================] - 20s 3s/step - loss: 0.4168 - accuracy: 0.8750 - val_loss: 0.3296 - val_accuracy: 0.9150\n",
      "Epoch 7/20\n",
      "7/7 [==============================] - 18s 3s/step - loss: 0.4387 - accuracy: 0.8850 - val_loss: 0.3029 - val_accuracy: 0.9300\n",
      "Epoch 8/20\n",
      "7/7 [==============================] - 19s 3s/step - loss: 0.5327 - accuracy: 0.8700 - val_loss: 0.3430 - val_accuracy: 0.9200\n",
      "Epoch 9/20\n",
      "7/7 [==============================] - 17s 2s/step - loss: 0.3366 - accuracy: 0.8900 - val_loss: 0.3245 - val_accuracy: 0.9200\n",
      "Epoch 10/20\n",
      "7/7 [==============================] - 19s 3s/step - loss: 0.3587 - accuracy: 0.9100 - val_loss: 0.1756 - val_accuracy: 0.9300\n",
      "Epoch 11/20\n",
      "7/7 [==============================] - 19s 3s/step - loss: 0.3760 - accuracy: 0.8900 - val_loss: 0.2232 - val_accuracy: 0.9300\n",
      "Epoch 12/20\n",
      "7/7 [==============================] - 22s 3s/step - loss: 0.3259 - accuracy: 0.9150 - val_loss: 0.2703 - val_accuracy: 0.9250\n",
      "Epoch 13/20\n",
      "7/7 [==============================] - 19s 3s/step - loss: 0.2908 - accuracy: 0.9200 - val_loss: 0.2054 - val_accuracy: 0.9200\n",
      "Epoch 14/20\n",
      "7/7 [==============================] - 18s 2s/step - loss: 0.2262 - accuracy: 0.9400 - val_loss: 0.3142 - val_accuracy: 0.9100\n",
      "Epoch 15/20\n",
      "7/7 [==============================] - 17s 2s/step - loss: 0.2877 - accuracy: 0.9050 - val_loss: 0.1572 - val_accuracy: 0.9400\n",
      "Epoch 16/20\n",
      "7/7 [==============================] - 17s 2s/step - loss: 0.3050 - accuracy: 0.9000 - val_loss: 0.1767 - val_accuracy: 0.9400\n",
      "Epoch 17/20\n",
      "7/7 [==============================] - 17s 2s/step - loss: 0.2182 - accuracy: 0.8950 - val_loss: 0.1353 - val_accuracy: 0.9400\n",
      "Epoch 18/20\n",
      "7/7 [==============================] - 16s 2s/step - loss: 0.1926 - accuracy: 0.9250 - val_loss: 0.1400 - val_accuracy: 0.9400\n",
      "Epoch 19/20\n",
      "7/7 [==============================] - 15s 2s/step - loss: 0.1716 - accuracy: 0.9350 - val_loss: 0.1645 - val_accuracy: 0.9400\n",
      "Epoch 20/20\n",
      "7/7 [==============================] - 14s 2s/step - loss: 0.2495 - accuracy: 0.9200 - val_loss: 0.1526 - val_accuracy: 0.9400\n"
     ]
    }
   ],
   "source": [
    "EPOCHS = 20\n",
    "history = model.fit_generator(train_generator, epochs=EPOCHS, validation_data = validation_generator, verbose=1)"
   ]
  },
  {
   "cell_type": "markdown",
   "metadata": {},
   "source": [
    "## 6. 평가 및 예측"
   ]
  },
  {
   "cell_type": "markdown",
   "metadata": {},
   "source": [
    "학습을 수행하면서 Accuracy와 Loss의 변화를 그래프로 출력한다."
   ]
  },
  {
   "cell_type": "code",
   "execution_count": null,
   "metadata": {},
   "outputs": [
    {
     "data": {
      "image/png": "[encoded data removed]",
      "text/plain": [
       "<Figure size 1152x576 with 2 Axes>"
      ]
     },
     "metadata": {},
     "output_type": "display_data"
    }
   ],
   "source": [
    "accuracy = history.history['accuracy']\n",
    "val_accuracy = history.history['val_accuracy']\n",
    "\n",
    "loss=history.history['loss']\n",
    "val_loss=history.history['val_loss']\n",
    "\n",
    "epochs_range = range(EPOCHS)\n",
    "\n",
    "plt.figure(figsize=(16, 8))\n",
    "plt.subplot(1, 2, 1)\n",
    "plt.plot(epochs_range, accuracy, label='Training Accuracy')\n",
    "plt.plot(epochs_range, val_accuracy, label='Validation Accuracy')\n",
    "plt.legend(loc='lower right')\n",
    "plt.title('Training and Validation Accuracy')\n",
    "\n",
    "plt.subplot(1, 2, 2)\n",
    "plt.plot(epochs_range, loss, label='Training Loss')\n",
    "plt.plot(epochs_range, val_loss, label='Validation Loss')\n",
    "plt.legend(loc='upper right')\n",
    "plt.title('Training and Validation Loss')\n",
    "plt.show()"
   ]
  },
  {
   "cell_type": "markdown",
   "metadata": {},
   "source": [
    "예측하기\n",
    "\n",
    "소프트맥스 레이어를 이용하여 로짓을 해석하기 쉬운 확률로 변환합니다."
   ]
  },
  {
   "cell_type": "code",
   "execution_count": null,
   "metadata": {},
   "outputs": [
    {
     "data": {
      "text/plain": [
       "<tf.Tensor: shape=(20,), dtype=float32, numpy=\n",
       "array([0.125161  , 0.04604416, 0.04604416, 0.04604416, 0.04604416,\n",
       "       0.04604416, 0.04604416, 0.04604416, 0.04604416, 0.04604416,\n",
       "       0.04604416, 0.04604416, 0.04604416, 0.04604416, 0.04604416,\n",
       "       0.04604416, 0.04604416, 0.04604416, 0.04604416, 0.04604416],\n",
       "      dtype=float32)>"
      ]
     },
     "execution_count": 143,
     "metadata": {},
     "output_type": "execute_result"
    }
   ],
   "source": [
    "from tensorflow import keras\n",
    "img = keras.preprocessing.image.load_img('./test/images.jpg', target_size=(150, 150))\n",
    "img_array = keras.preprocessing.image.img_to_array(img)\n",
    "img_array = tf.expand_dims(img_array, 0) # Create a batch\n",
    "\n",
    "predictions = model.predict(img_array)\n",
    "score = tf.nn.softmax(predictions[0])\n",
    "score"
   ]
  },
  {
   "cell_type": "code",
   "execution_count": null,
   "metadata": {},
   "outputs": [
    {
     "data": {
      "text/plain": [
       "'Altair'"
      ]
     },
     "execution_count": 144,
     "metadata": {},
     "output_type": "execute_result"
    }
   ],
   "source": [
    "idx = np.argmax(score)\n",
    "classes = train_generator.class_indices\n",
    "list(classes.keys())[list(classes.values()).index(idx)]\n"
   ]
  },
  {
   "cell_type": "markdown",
   "metadata": {},
   "source": [
    "모델의 epochs값을 조정해봐도 빈번히 실패한다. 데이터의 수가 부족하기 때문이라고 생각한다. 더 많은 데이터를 확보하는게 중요할 것 같다. "
   ]
  }
 ],
 "metadata": {
  "interpreter": {
   "hash": "df0893f56f349688326838aaeea0de204df53a132722cbd565e54b24a8fec5f6"
  },
  "kernelspec": {
   "display_name": "Python 3.8.5 64-bit",
   "language": "python",
   "name": "python3"
  },
  "language_info": {
   "codemirror_mode": {
    "name": "ipython",
    "version": 3
   },
   "file_extension": ".py",
   "mimetype": "text/x-python",
   "name": "python",
   "nbconvert_exporter": "python",
   "pygments_lexer": "ipython3",
   "version": "3.6.9"
  },
  "orig_nbformat": 4
 },
 "nbformat": 4,
 "nbformat_minor": 2
}
